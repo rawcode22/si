{
 "cells": [
  {
   "cell_type": "markdown",
   "metadata": {},
   "source": [
    "EX9"
   ]
  },
  {
   "cell_type": "code",
   "execution_count": 12,
   "metadata": {},
   "outputs": [
    {
     "name": "stdout",
     "output_type": "stream",
     "text": [
      "OUR RANDOM FOREST CLASSIFIER\n",
      "0.9666666666666667\n",
      "SKLEARN RANDOM FOREST CLASSIFIER\n",
      "1.0\n"
     ]
    }
   ],
   "source": [
    "print(\"OUR RANDOM FOREST CLASSIFIER\")\n",
    "import os\n",
    "os.chdir(\"C:/Users/zemar/OneDrive/Documentos\")\n",
    "from si.src.io.csv_file import read_csv\n",
    "from si.src.model_selection.split import train_test_split\n",
    "from si.src.models.random_forest_classifier import RandomForestClassifier\n",
    "from si.src.metrics.accuracy import accuracy\n",
    "\n",
    "data = read_csv('si/datasets/iris/iris.csv', sep=',', features=True, label=True)\n",
    "train, test = train_test_split(data, test_size=0.2, random_state=42)\n",
    "model = RandomForestClassifier(n_estimators=5, min_sample_split=3, max_depth=3, mode='gini')\n",
    "model.fit(train)\n",
    "\n",
    "print(model.score(test))\n",
    "\n",
    "#vs sklearn\n",
    "print(\"SKLEARN RANDOM FOREST CLASSIFIER\")\n",
    "from sklearn.ensemble import RandomForestClassifier as SklearnRandomForestClassifier\n",
    "model2 = SklearnRandomForestClassifier(n_estimators=5, min_samples_split=3, max_depth=3)\n",
    "model2.fit(train.X, train.y)\n",
    "print(accuracy(test.y, model2.predict(test.X)))"
   ]
  },
  {
   "cell_type": "markdown",
   "metadata": {},
   "source": [
    "EX10"
   ]
  },
  {
   "cell_type": "code",
   "execution_count": 13,
   "metadata": {},
   "outputs": [
    {
     "name": "stdout",
     "output_type": "stream",
     "text": [
      "STACKING CLASSIFIER\n",
      "0.9784172661870504\n",
      "SKLEARN STACKING CLASSIFIER\n",
      "0.9856115107913669\n"
     ]
    }
   ],
   "source": [
    "print(\"STACKING CLASSIFIER\")\n",
    "from si.src.io.csv_file import read_csv\n",
    "from si.src.model_selection.split import stratified_train_test_split\n",
    "from si.src.models.knn_classifier import KNNClassifier\n",
    "from si.src.models.logistic_regression import LogisticRegression\n",
    "from si.src.models.decision_tree_classifier import DecisionTreeClassifier\n",
    "from si.src.ensemble.stacking_classifier import StackingClassifier\n",
    "\n",
    "data = read_csv('si/datasets/breast-bin/breast-bin.csv', sep=\",\",features=True,label=True)\n",
    "train, test = stratified_train_test_split(data, test_size=0.20, random_state=42)\n",
    "\n",
    "\n",
    "knn = KNNClassifier(k=5)\n",
    "lr=LogisticRegression(l2_penalty=0.1, alpha=0.1, max_iter=1000)\n",
    "dt=DecisionTreeClassifier(min_sample_split=2, max_depth=10, mode='gini')\n",
    "\n",
    "#FINAL MONSTRUOSITY\n",
    "final_model=KNNClassifier(k=5)\n",
    "modelos=[knn,lr,dt]\n",
    "exercise=StackingClassifier(modelos,final_model)\n",
    "exercise.fit(train)\n",
    "print(exercise.score(test))\n",
    "\n",
    "#vs sklearn\n",
    "print(\"SKLEARN STACKING CLASSIFIER\")\n",
    "from sklearn.ensemble import StackingClassifier as StackingClassifier_sklearn\n",
    "from sklearn.neighbors import KNeighborsClassifier\n",
    "from sklearn.linear_model import LogisticRegression\n",
    "from sklearn.tree import DecisionTreeClassifier\n",
    "\n",
    "\n",
    "knn = KNeighborsClassifier(n_neighbors=5)\n",
    "lr=LogisticRegression(penalty='l2', C=0.1, max_iter=1000)\n",
    "dt=DecisionTreeClassifier(min_samples_split=2, max_depth=10, criterion='gini')\n",
    "\n",
    "#FINAL MONSTRUOSITY(sklearn)\n",
    "final_model=KNeighborsClassifier(n_neighbors=5)\n",
    "models=[('knn',knn),('lr',lr),('dt',dt)]\n",
    "exercise=StackingClassifier_sklearn(estimators=models,final_estimator=final_model)\n",
    "exercise.fit(train.X, train.y)\n",
    "print(accuracy(test.y, exercise.predict(test.X)))"
   ]
  },
  {
   "cell_type": "markdown",
   "metadata": {},
   "source": [
    "EX 11"
   ]
  },
  {
   "cell_type": "code",
   "execution_count": 14,
   "metadata": {},
   "outputs": [
    {
     "name": "stdout",
     "output_type": "stream",
     "text": [
      "Best avg score:\n",
      " 0.9669540229885057\n"
     ]
    }
   ],
   "source": [
    "from si.src.models.logistic_regression import LogisticRegression\n",
    "from si.src.model_selection.randomized_search_cv import randomized_search_cv\n",
    "from si.src.model_selection.grid_search import grid_search_cv\n",
    "from si.src.io.csv_file import read_csv\n",
    "import numpy as np\n",
    "\n",
    "dataset = read_csv('si/datasets/breast-bin/breast-bin.csv', sep=\",\",features=True,label=True)\n",
    "\n",
    "# define the model\n",
    "model = LogisticRegression()\n",
    "\n",
    "hyperparameter_grid = {\n",
    "    'l2_penalty': (1, 10),\n",
    "    'alpha': (0.001, 0.0001, 0.00001),\n",
    "    'max_iter': (1000, 2000, 3000, 4000, 5000, 6000)\n",
    "}\n",
    "results = randomized_search_cv(model=model, dataset=dataset, hyperparameter_grid=hyperparameter_grid, cv=3, n_ite=10)\n",
    "print(f'Best avg score:\\n {results[\"best_scores\"]}')\n"
   ]
  },
  {
   "cell_type": "code",
   "execution_count": 15,
   "metadata": {},
   "outputs": [
    {
     "name": "stdout",
     "output_type": "stream",
     "text": [
      "Best hyperparameters:\n",
      " {'l2_penalty': 1, 'alpha': 0.001, 'max_iter': 5000}\n"
     ]
    }
   ],
   "source": [
    "print(f'Best hyperparameters:\\n {results[\"best_hyperparameters\"]}')"
   ]
  },
  {
   "cell_type": "code",
   "execution_count": 16,
   "metadata": {},
   "outputs": [
    {
     "name": "stdout",
     "output_type": "stream",
     "text": [
      "All scores:\n",
      " [[0.978448275862069, 0.9612068965517241, 0.9612068965517241], [0.9568965517241379, 0.9698275862068966, 0.9741379310344828], [0.9827586206896551, 0.9439655172413793, 0.9741379310344828], [0.9655172413793104, 0.9827586206896551, 0.9525862068965517], [0.9568965517241379, 0.9741379310344828, 0.9698275862068966], [0.9525862068965517, 0.9698275862068966, 0.978448275862069], [0.9698275862068966, 0.9655172413793104, 0.9655172413793104], [0.9655172413793104, 0.9568965517241379, 0.978448275862069], [0.9741379310344828, 0.978448275862069, 0.9482758620689655], [0.978448275862069, 0.9612068965517241, 0.9612068965517241]]\n"
     ]
    }
   ],
   "source": [
    "print(f'All scores:\\n {results[\"scores\"]}')"
   ]
  },
  {
   "cell_type": "code",
   "execution_count": 17,
   "metadata": {},
   "outputs": [
    {
     "name": "stdout",
     "output_type": "stream",
     "text": [
      "All hyperparameters:\n",
      " [{'l2_penalty': 1, 'alpha': 0.001, 'max_iter': 5000}, {'l2_penalty': 1, 'alpha': 0.0001, 'max_iter': 1000}, {'l2_penalty': 10, 'alpha': 0.0001, 'max_iter': 6000}, {'l2_penalty': 10, 'alpha': 1e-05, 'max_iter': 6000}, {'l2_penalty': 10, 'alpha': 0.0001, 'max_iter': 2000}, {'l2_penalty': 10, 'alpha': 0.0001, 'max_iter': 3000}, {'l2_penalty': 1, 'alpha': 1e-05, 'max_iter': 5000}, {'l2_penalty': 1, 'alpha': 0.001, 'max_iter': 4000}, {'l2_penalty': 1, 'alpha': 0.001, 'max_iter': 5000}, {'l2_penalty': 10, 'alpha': 0.001, 'max_iter': 5000}]\n"
     ]
    }
   ],
   "source": [
    "print(f'All hyperparameters:\\n {results[\"hyperparameters\"]}')"
   ]
  }
 ],
 "metadata": {
  "kernelspec": {
   "display_name": "Python 3",
   "language": "python",
   "name": "python3"
  },
  "language_info": {
   "codemirror_mode": {
    "name": "ipython",
    "version": 3
   },
   "file_extension": ".py",
   "mimetype": "text/x-python",
   "name": "python",
   "nbconvert_exporter": "python",
   "pygments_lexer": "ipython3",
   "version": "3.11.3"
  }
 },
 "nbformat": 4,
 "nbformat_minor": 2
}
