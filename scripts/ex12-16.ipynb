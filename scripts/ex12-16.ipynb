{
 "cells": [
  {
   "cell_type": "code",
   "execution_count": 57,
   "metadata": {},
   "outputs": [],
   "source": [
    "import os\n",
    "os.chdir(\"C:/Users/zemar/OneDrive/Documentos\")\n",
    "from si.src.data.dataset import Dataset\n",
    "import numpy as np   \n",
    "from si.src.neural_networks.layers import Layer, DenseLayer, Dropout\n",
    "from si.src.neural_networks.neural_network import NeuralNetwork\n",
    "from si.src.neural_networks.optimizers import SGD, Adam\n",
    "from si.src.neural_networks.activation import ReLUActivation,SigmoidActivation, TanhActivation, SoftmaxActivation\n",
    "from si.src.neural_networks.losses import BinaryCrossEntropy\n",
    "from si.src.model_selection.split import stratified_train_test_split, train_test_split\n",
    "from si.src.metrics.accuracy import accuracy\n",
    "import matplotlib.pyplot as plt\n",
    "from si.src.neural_networks.losses import CategoricalCrossEntropy"
   ]
  },
  {
   "cell_type": "markdown",
   "metadata": {},
   "source": [
    "EX 12"
   ]
  },
  {
   "cell_type": "code",
   "execution_count": 7,
   "metadata": {},
   "outputs": [
    {
     "name": "stdout",
     "output_type": "stream",
     "text": [
      "x: [[ 1  2  3  4  5  6  7  8  9 10]]\n",
      "output training: [[ 0.  4.  6.  8.  0.  0.  0. 16. 18. 20.]]\n",
      "mask: [[0 1 1 1 0 0 0 1 1 1]]\n",
      "output inference: [[ 1  2  3  4  5  6  7  8  9 10]]\n"
     ]
    }
   ],
   "source": [
    "np.random.seed(42)\n",
    "x = np.array([[1,2,3,4,5,6,7,8,9,10]])\n",
    "print(\"x:\", x)\n",
    "dropout = Dropout(0.5)\n",
    "print(\"output training:\", dropout.forward_propagation(x, training=True))\n",
    "print(\"mask:\", dropout.mask)\n",
    "\n",
    "print(\"output inference:\", dropout.forward_propagation(x, training=False))"
   ]
  },
  {
   "cell_type": "markdown",
   "metadata": {},
   "source": [
    "EX 13"
   ]
  },
  {
   "cell_type": "markdown",
   "metadata": {},
   "source": [
    "EX 13.2"
   ]
  },
  {
   "cell_type": "code",
   "execution_count": 15,
   "metadata": {},
   "outputs": [
    {
     "name": "stdout",
     "output_type": "stream",
     "text": [
      "[[0.11245721 0.01521943 0.0413707  0.83095266]\n",
      " [0.01314897 0.00483724 0.26410418 0.71790961]\n",
      " [0.00483724 0.71790961 0.26410418 0.01314897]]\n",
      "[1. 1. 1.]\n"
     ]
    }
   ],
   "source": [
    "softmax_activation = SoftmaxActivation()\n",
    "\n",
    "scores2D = np.array([[4, 2, 3, 6],\n",
    "                     [2, 1, 5, 6],\n",
    "                     [3, 8, 7, 4]])\n",
    "\n",
    "print(softmax_activation.activation_function(scores2D))\n",
    "print(np.sum(softmax_activation.activation_function(scores2D), axis=1))"
   ]
  },
  {
   "cell_type": "markdown",
   "metadata": {},
   "source": [
    "14"
   ]
  },
  {
   "cell_type": "code",
   "execution_count": 18,
   "metadata": {},
   "outputs": [
    {
     "name": "stdout",
     "output_type": "stream",
     "text": [
      "4.496403249731887e-14\n",
      "[[-1. -2. -3.]\n",
      " [-4. -5. -6.]\n",
      " [-7. -8. -9.]]\n"
     ]
    }
   ],
   "source": [
    "cross_entropy_loss = CategoricalCrossEntropy()\n",
    "\n",
    "# Generate input values\n",
    "x_values = np.array([[1,2,3], [4,5,6], [7,8,9]])\n",
    "y_values = np.array([[1.9,2.9,3.9], [4.9,5.9,6.9], [7.9,8.9,9.9]])\n",
    "\n",
    "\n",
    "# Calculate loss for each input-target pair\n",
    "loss = cross_entropy_loss.loss(x_values, y_values)\n",
    "derivative = cross_entropy_loss.derivative(x_values, y_values)\n",
    "\n",
    "print(loss)\n",
    "print(derivative)"
   ]
  },
  {
   "cell_type": "markdown",
   "metadata": {},
   "source": [
    "15"
   ]
  },
  {
   "cell_type": "code",
   "execution_count": 22,
   "metadata": {},
   "outputs": [
    {
     "name": "stdout",
     "output_type": "stream",
     "text": [
      "Learing Rate 0.01: [5.99 6.99 7.99 8.99 9.99]\n",
      "Learing Rate 0.1: [5.90000001 6.9        7.9        8.9        9.9       ]\n",
      "Learing Rate 0.5: [5.50000005 6.50000002 7.50000002 8.50000001 9.50000001]\n"
     ]
    }
   ],
   "source": [
    "weights = np.array([6, 7, 8, 9, 10])\n",
    "grad_loss_weights = np.array([0.1, 0.2, 0.3, 0.4, 0.5])\n",
    "\n",
    "#comparison\n",
    "for x in [0.01, 0.1, 0.5]:\n",
    "    adam_optimizer = Adam(learning_rate=x)\n",
    "    updated_w_adam = adam_optimizer.update(weights, grad_loss_weights)\n",
    "    print(f\"Learing Rate {x}:\", updated_w_adam)"
   ]
  },
  {
   "cell_type": "markdown",
   "metadata": {},
   "source": [
    "16"
   ]
  },
  {
   "cell_type": "code",
   "execution_count": 61,
   "metadata": {},
   "outputs": [
    {
     "name": "stdout",
     "output_type": "stream",
     "text": [
      "Epoch 1/100 - loss: 117.5909 - accuracy: 0.0000\n",
      "Epoch 2/100 - loss: 90.0337 - accuracy: 0.0000\n",
      "Epoch 3/100 - loss: 82.8328 - accuracy: 0.0000\n",
      "Epoch 4/100 - loss: 79.0319 - accuracy: 0.0000\n",
      "Epoch 5/100 - loss: 73.5169 - accuracy: 0.0000\n",
      "Epoch 6/100 - loss: 69.5928 - accuracy: 0.0000\n",
      "Epoch 7/100 - loss: 61.9997 - accuracy: 0.0000\n",
      "Epoch 8/100 - loss: 56.5251 - accuracy: 0.0000\n",
      "Epoch 9/100 - loss: 50.6257 - accuracy: 0.0000\n",
      "Epoch 10/100 - loss: 43.7767 - accuracy: 0.0000\n",
      "Epoch 11/100 - loss: 37.3012 - accuracy: 0.0000\n",
      "Epoch 12/100 - loss: 31.5761 - accuracy: 0.0000\n",
      "Epoch 13/100 - loss: 26.9250 - accuracy: 0.0000\n",
      "Epoch 14/100 - loss: 22.8125 - accuracy: 0.0000\n",
      "Epoch 15/100 - loss: 18.0815 - accuracy: 0.0000\n",
      "Epoch 16/100 - loss: 14.7586 - accuracy: 0.0000\n",
      "Epoch 17/100 - loss: 12.3111 - accuracy: 0.0000\n",
      "Epoch 18/100 - loss: 10.1040 - accuracy: 0.0000\n",
      "Epoch 19/100 - loss: 8.6971 - accuracy: 0.0000\n",
      "Epoch 20/100 - loss: 7.6421 - accuracy: 0.0000\n",
      "Epoch 21/100 - loss: 6.4670 - accuracy: 0.0000\n",
      "Epoch 22/100 - loss: 5.7417 - accuracy: 0.0000\n",
      "Epoch 23/100 - loss: 5.0808 - accuracy: 0.0000\n",
      "Epoch 24/100 - loss: 4.5558 - accuracy: 0.0000\n",
      "Epoch 25/100 - loss: 4.0413 - accuracy: 0.0000\n",
      "Epoch 26/100 - loss: 3.7253 - accuracy: 0.0000\n",
      "Epoch 27/100 - loss: 3.3847 - accuracy: 0.0000\n",
      "Epoch 28/100 - loss: 3.0795 - accuracy: 0.0000\n",
      "Epoch 29/100 - loss: 2.8748 - accuracy: 0.0000\n",
      "Epoch 30/100 - loss: 2.6100 - accuracy: 0.0000\n",
      "Epoch 31/100 - loss: 2.4322 - accuracy: 0.0000\n",
      "Epoch 32/100 - loss: 2.2547 - accuracy: 0.0000\n",
      "Epoch 33/100 - loss: 2.0989 - accuracy: 0.0000\n",
      "Epoch 34/100 - loss: 1.9809 - accuracy: 0.0000\n",
      "Epoch 35/100 - loss: 1.8368 - accuracy: 0.0000\n",
      "Epoch 36/100 - loss: 1.7126 - accuracy: 0.0000\n",
      "Epoch 37/100 - loss: 1.6192 - accuracy: 0.0000\n",
      "Epoch 38/100 - loss: 1.5226 - accuracy: 0.0000\n",
      "Epoch 39/100 - loss: 1.4513 - accuracy: 0.0000\n",
      "Epoch 40/100 - loss: 1.3702 - accuracy: 0.0000\n",
      "Epoch 41/100 - loss: 1.2968 - accuracy: 0.0000\n",
      "Epoch 42/100 - loss: 1.2316 - accuracy: 0.0000\n",
      "Epoch 43/100 - loss: 1.1785 - accuracy: 0.0000\n",
      "Epoch 44/100 - loss: 1.1222 - accuracy: 0.0000\n",
      "Epoch 45/100 - loss: 1.0657 - accuracy: 0.0000\n",
      "Epoch 46/100 - loss: 1.0220 - accuracy: 0.0000\n",
      "Epoch 47/100 - loss: 0.9808 - accuracy: 0.0000\n",
      "Epoch 48/100 - loss: 0.9365 - accuracy: 0.0000\n",
      "Epoch 49/100 - loss: 0.8974 - accuracy: 0.0000\n",
      "Epoch 50/100 - loss: 0.8681 - accuracy: 0.0000\n",
      "Epoch 51/100 - loss: 0.8283 - accuracy: 0.0000\n",
      "Epoch 52/100 - loss: 0.8003 - accuracy: 0.0000\n",
      "Epoch 53/100 - loss: 0.7712 - accuracy: 0.0000\n",
      "Epoch 54/100 - loss: 0.7410 - accuracy: 0.0000\n",
      "Epoch 55/100 - loss: 0.7172 - accuracy: 0.0000\n",
      "Epoch 56/100 - loss: 0.6966 - accuracy: 0.0000\n",
      "Epoch 57/100 - loss: 0.6676 - accuracy: 0.0000\n",
      "Epoch 58/100 - loss: 0.6461 - accuracy: 0.0000\n",
      "Epoch 59/100 - loss: 0.6277 - accuracy: 0.0000\n",
      "Epoch 60/100 - loss: 0.6064 - accuracy: 0.0000\n",
      "Epoch 61/100 - loss: 0.5877 - accuracy: 0.0000\n",
      "Epoch 62/100 - loss: 0.5702 - accuracy: 0.0000\n",
      "Epoch 63/100 - loss: 0.5553 - accuracy: 0.0000\n",
      "Epoch 64/100 - loss: 0.5379 - accuracy: 0.0000\n",
      "Epoch 65/100 - loss: 0.5238 - accuracy: 0.0000\n",
      "Epoch 66/100 - loss: 0.5106 - accuracy: 0.0000\n",
      "Epoch 67/100 - loss: 0.4962 - accuracy: 0.0000\n",
      "Epoch 68/100 - loss: 0.4822 - accuracy: 0.0000\n",
      "Epoch 69/100 - loss: 0.4716 - accuracy: 0.0000\n",
      "Epoch 70/100 - loss: 0.4592 - accuracy: 0.0000\n",
      "Epoch 71/100 - loss: 0.4475 - accuracy: 0.0000\n",
      "Epoch 72/100 - loss: 0.4369 - accuracy: 0.0000\n",
      "Epoch 73/100 - loss: 0.4270 - accuracy: 0.0000\n",
      "Epoch 74/100 - loss: 0.4162 - accuracy: 0.0000\n",
      "Epoch 75/100 - loss: 0.4062 - accuracy: 0.0000\n",
      "Epoch 76/100 - loss: 0.3973 - accuracy: 0.0000\n",
      "Epoch 77/100 - loss: 0.3871 - accuracy: 0.0000\n",
      "Epoch 78/100 - loss: 0.3794 - accuracy: 0.0000\n",
      "Epoch 79/100 - loss: 0.3708 - accuracy: 0.0000\n",
      "Epoch 80/100 - loss: 0.3625 - accuracy: 0.0000\n",
      "Epoch 81/100 - loss: 0.3543 - accuracy: 0.0000\n",
      "Epoch 82/100 - loss: 0.3475 - accuracy: 0.0000\n",
      "Epoch 83/100 - loss: 0.3406 - accuracy: 0.0000\n",
      "Epoch 84/100 - loss: 0.3336 - accuracy: 0.0000\n",
      "Epoch 85/100 - loss: 0.3274 - accuracy: 0.0000\n",
      "Epoch 86/100 - loss: 0.3203 - accuracy: 0.0000\n",
      "Epoch 87/100 - loss: 0.3140 - accuracy: 0.0000\n",
      "Epoch 88/100 - loss: 0.3089 - accuracy: 0.0000\n",
      "Epoch 89/100 - loss: 0.3024 - accuracy: 0.0000\n",
      "Epoch 90/100 - loss: 0.2973 - accuracy: 0.0000\n",
      "Epoch 91/100 - loss: 0.2921 - accuracy: 0.0000\n",
      "Epoch 92/100 - loss: 0.2867 - accuracy: 0.0000\n",
      "Epoch 93/100 - loss: 0.2815 - accuracy: 0.0000\n",
      "Epoch 94/100 - loss: 0.2764 - accuracy: 0.0000\n",
      "Epoch 95/100 - loss: 0.2722 - accuracy: 0.0000\n",
      "Epoch 96/100 - loss: 0.2674 - accuracy: 0.0000\n",
      "Epoch 97/100 - loss: 0.2633 - accuracy: 0.0000\n",
      "Epoch 98/100 - loss: 0.2581 - accuracy: 0.0000\n",
      "Epoch 99/100 - loss: 0.2547 - accuracy: 0.0000\n",
      "Epoch 100/100 - loss: 0.2500 - accuracy: 0.0000\n"
     ]
    },
    {
     "data": {
      "text/plain": [
       "<si.src.neural_networks.neural_network.NeuralNetwork at 0x1c98befd490>"
      ]
     },
     "execution_count": 61,
     "metadata": {},
     "output_type": "execute_result"
    }
   ],
   "source": [
    "#create the dataset\n",
    "np.random.seed(42)\n",
    "X = np.random.randn(160, 32)  # 160 amostras, 32 características\n",
    "y = np.random.randint(2, size=(160, 1))  #  binários (0 ou 1)\n",
    "dataset=Dataset(X=X,y=y)\n",
    "\n",
    "#divide the dataset\n",
    "train_dl,test_dl = train_test_split(dataset, test_size=0.2, random_state=42)\n",
    "\n",
    "#create the neural network\n",
    "model_dl =NeuralNetwork(epochs=100, batch_size=16, optimizer=SGD, learning_rate=0.01, verbose=True, loss=BinaryCrossEntropy, metric=accuracy)\n",
    "n_features = X.shape[1]\n",
    "model_dl.add(DenseLayer(32, (n_features,)))\n",
    "model_dl.add(ReLUActivation())\n",
    "model_dl.add(DenseLayer(16))\n",
    "model_dl.add(ReLUActivation())\n",
    "model_dl.add(DenseLayer(1))\n",
    "model_dl.add(SigmoidActivation())\n",
    "\n",
    "#train the model\n",
    "model_dl.fit(train_dl)"
   ]
  },
  {
   "cell_type": "code",
   "execution_count": 46,
   "metadata": {},
   "outputs": [
    {
     "name": "stdout",
     "output_type": "stream",
     "text": [
      "0.0\n"
     ]
    }
   ],
   "source": []
  }
 ],
 "metadata": {
  "kernelspec": {
   "display_name": "Python 3",
   "language": "python",
   "name": "python3"
  },
  "language_info": {
   "codemirror_mode": {
    "name": "ipython",
    "version": 3
   },
   "file_extension": ".py",
   "mimetype": "text/x-python",
   "name": "python",
   "nbconvert_exporter": "python",
   "pygments_lexer": "ipython3",
   "version": "3.11.3"
  }
 },
 "nbformat": 4,
 "nbformat_minor": 2
}
