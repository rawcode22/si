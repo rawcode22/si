{
 "cells": [
  {
   "cell_type": "markdown",
   "metadata": {},
   "source": [
    "EX 4\n"
   ]
  },
  {
   "cell_type": "code",
   "execution_count": 2,
   "metadata": {},
   "outputs": [
    {
     "name": "stdout",
     "output_type": "stream",
     "text": [
      "My distance: [ 9 18]\n",
      "Sklearn distance: [[ 9. 18.]]\n"
     ]
    }
   ],
   "source": [
    "import os\n",
    "os.chdir(\"C:/Users/zemar/OneDrive/Documentos\")\n",
    "\n",
    "from si.src.statistics.manhattan_distance import manhattan_distance\n",
    "import numpy as np\n",
    "\n",
    "x = np.array([1, 2, 3])\n",
    "y = np.array([[4, 5, 6], [7, 8, 9]])\n",
    "md = manhattan_distance(x, y)\n",
    "\n",
    "#sklearn package\n",
    "from sklearn.metrics.pairwise import manhattan_distances\n",
    "sklearn_md = manhattan_distances([x], y)\n",
    "\n",
    "print(\"My distance:\", md)\n",
    "print(\"Sklearn distance:\", sklearn_md)"
   ]
  },
  {
   "cell_type": "markdown",
   "metadata": {},
   "source": [
    "EX 5"
   ]
  },
  {
   "cell_type": "code",
   "execution_count": 11,
   "metadata": {},
   "outputs": [
    {
     "name": "stdout",
     "output_type": "stream",
     "text": [
      "float (0.95) n_components:\n",
      "components: [[ 0.36158968 -0.08226889  0.85657211  0.35884393]\n",
      " [-0.65653988 -0.72971237  0.1757674   0.07470647]]\n",
      "explained variance: [4.22484077 0.24224357]\n",
      "explained variance ratio: [0.94577144 0.05422856]\n",
      "\n",
      "int (2) n_components:\n",
      "components: [[ 0.36158968 -0.08226889  0.85657211  0.35884393]\n",
      " [-0.65653988 -0.72971237  0.1757674   0.07470647]]\n",
      "explained variance: [4.22484077 0.24224357]\n",
      "explained variance ratio: [0.94577144 0.05422856]\n"
     ]
    }
   ],
   "source": [
    "from si.src.io.csv_file import read_csv\n",
    "from si.src.decomposition.PCA import PCA\n",
    "iris = read_csv('si/datasets/iris/iris.csv',sep=',',features=True, label=True)\n",
    "\n",
    "#float (0.95) n_components\n",
    "pca = PCA(n_components=0.95)\n",
    "pca.fit_transform(iris)\n",
    "print('components:', pca.components)\n",
    "print('explained variance:', pca.explained_var)\n",
    "print('explained variance ratio:',pca.explained_var_ratio)\n",
    "print()\n",
    "\n",
    "#int (2) n_components\n",
    "pca = PCA(n_components=2)\n",
    "pca.fit_transform(iris)\n",
    "print('comps:', pca.components)\n",
    "print('explained var:', pca.explained_var)\n",
    "print('explained var ratio:', pca.explained_var_ratio)"
   ]
  },
  {
   "cell_type": "code",
   "execution_count": 16,
   "metadata": {},
   "outputs": [
    {
     "data": {
      "text/plain": [
       "array([5.84333333, 3.054     , 3.75866667, 1.19866667])"
      ]
     },
     "execution_count": 16,
     "metadata": {},
     "output_type": "execute_result"
    }
   ],
   "source": [
    "#MEAN\n",
    "pca.mean"
   ]
  },
  {
   "cell_type": "markdown",
   "metadata": {},
   "source": [
    "comparing to sklearn module"
   ]
  },
  {
   "cell_type": "code",
   "execution_count": 17,
   "metadata": {},
   "outputs": [
    {
     "name": "stdout",
     "output_type": "stream",
     "text": [
      "comps: [[ 0.36158968 -0.08226889  0.85657211  0.35884393]\n",
      " [ 0.65653988  0.72971237 -0.1757674  -0.07470647]]\n",
      "explained var: [4.22484077 0.24224357]\n",
      "explained var ratio: [0.92461621 0.05301557]\n",
      "\n",
      "comps: [[ 0.36158968 -0.08226889  0.85657211  0.35884393]\n",
      " [ 0.65653988  0.72971237 -0.1757674  -0.07470647]]\n",
      "explained var: [4.22484077 0.24224357]\n",
      "explained var ratio: [0.92461621 0.05301557]\n"
     ]
    }
   ],
   "source": [
    "from sklearn.decomposition import PCA as skPCA\n",
    "\n",
    "pca = skPCA(n_components=0.95)\n",
    "pca.fit_transform(iris.X)\n",
    "print('comps:', pca.components_)\n",
    "print('explained var:', pca.explained_variance_)\n",
    "print('explained var ratio:',pca.explained_variance_ratio_)\n",
    "print()\n",
    "\n",
    "pca = skPCA(n_components=2)\n",
    "pca.fit_transform(iris.X)\n",
    "print('comps:', pca.components_)\n",
    "print('explained var:', pca.explained_variance_)\n",
    "print('explained var ratio:', pca.explained_variance_ratio_)"
   ]
  }
 ],
 "metadata": {
  "kernelspec": {
   "display_name": "Python 3",
   "language": "python",
   "name": "python3"
  },
  "language_info": {
   "codemirror_mode": {
    "name": "ipython",
    "version": 3
   },
   "file_extension": ".py",
   "mimetype": "text/x-python",
   "name": "python",
   "nbconvert_exporter": "python",
   "pygments_lexer": "ipython3",
   "version": "3.11.3"
  }
 },
 "nbformat": 4,
 "nbformat_minor": 2
}
