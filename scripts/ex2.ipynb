{
 "cells": [
  {
   "cell_type": "markdown",
   "metadata": {},
   "source": [
    "testing new methods\n"
   ]
  },
  {
   "cell_type": "code",
   "execution_count": 19,
   "metadata": {},
   "outputs": [],
   "source": [
    "import os\n",
    "os.chdir(\"C:/Users/zemar/OneDrive/Documentos\")\n",
    "import numpy as np"
   ]
  },
  {
   "cell_type": "code",
   "execution_count": 20,
   "metadata": {},
   "outputs": [
    {
     "name": "stdout",
     "output_type": "stream",
     "text": [
      "[[ 1.  2.  3.]\n",
      " [ 4.  5.  6.]\n",
      " [ 6.  7. nan]]\n"
     ]
    }
   ],
   "source": [
    "from si.src.data.dataset import Dataset\n",
    "\n",
    "X = np.array([[1, 2, 3], [4, 5, 6], [6, 7, np.nan]])\n",
    "y = np.array([1, 2, 3])\n",
    "features = np.array(['a', 'b', 'c'])\n",
    "label = 'y'\n",
    "dataset = Dataset(X, y, features, label)\n",
    "\n",
    "print(dataset.X)\n",
    "\n"
   ]
  },
  {
   "cell_type": "code",
   "execution_count": 21,
   "metadata": {},
   "outputs": [
    {
     "name": "stdout",
     "output_type": "stream",
     "text": [
      "[[1. 2. 3.]\n",
      " [4. 5. 6.]]\n"
     ]
    }
   ],
   "source": [
    "dataset.dropna()\n",
    "print(dataset.X)"
   ]
  },
  {
   "cell_type": "code",
   "execution_count": 22,
   "metadata": {},
   "outputs": [
    {
     "name": "stdout",
     "output_type": "stream",
     "text": [
      "[[ 6.  2.  3.]\n",
      " [ 9.  5.  1.]\n",
      " [ 6.  7. nan]]\n",
      "\n",
      "[[6. 2. 3.]\n",
      " [9. 5. 1.]\n",
      " [6. 7. 1.]]\n"
     ]
    }
   ],
   "source": [
    "X = np.array([[6, 2, 3], [9, 5, 1], [6, 7, np.nan]])\n",
    "y = np.array([1, 2, 3])\n",
    "features = np.array(['a', 'b', 'c'])\n",
    "label = 'y'\n",
    "dataset = Dataset(X, y, features, label)\n",
    "\n",
    "print(dataset.X)\n",
    "print()\n",
    "dataset.fillna(1)\n",
    "print(dataset.X)\n",
    "\n"
   ]
  },
  {
   "cell_type": "code",
   "execution_count": 23,
   "metadata": {},
   "outputs": [
    {
     "name": "stdout",
     "output_type": "stream",
     "text": [
      "[[6. 2. 3.]\n",
      " [9. 5. 1.]\n",
      " [6. 7. 1.]]\n",
      "\n",
      "[[6. 2. 3.]\n",
      " [9. 5. 1.]\n",
      " [6. 7. 1.]]\n"
     ]
    }
   ],
   "source": [
    "\n",
    "print(dataset.X)\n",
    "print()\n",
    "dataset.fillna('median')\n",
    "print(dataset.X)\n"
   ]
  },
  {
   "cell_type": "code",
   "execution_count": 24,
   "metadata": {},
   "outputs": [
    {
     "name": "stdout",
     "output_type": "stream",
     "text": [
      "[[6. 2. 3.]\n",
      " [9. 5. 1.]\n",
      " [6. 7. 1.]]\n",
      "\n",
      "[[6. 2. 3.]\n",
      " [9. 5. 1.]\n",
      " [6. 7. 1.]]\n"
     ]
    }
   ],
   "source": [
    "print(dataset.X)\n",
    "print()\n",
    "dataset.fillna('mean')\n",
    "print(dataset.X)"
   ]
  },
  {
   "cell_type": "code",
   "execution_count": 26,
   "metadata": {},
   "outputs": [
    {
     "name": "stdout",
     "output_type": "stream",
     "text": [
      "[[ 7.  2.  3.]\n",
      " [ 8.  5.  6.]\n",
      " [ 6.  7. nan]]\n",
      "\n",
      "[[ 7.  2.  3.]\n",
      " [ 6.  7. nan]]\n"
     ]
    }
   ],
   "source": [
    "X = np.array([[7, 2, 3], [8, 5, 6], [6, 7, np.nan]])\n",
    "y = np.array([1, 2, 3])\n",
    "features = np.array(['a', 'b', 'c'])\n",
    "label = 'y'\n",
    "dataset = Dataset(X, y, features, label)\n",
    "\n",
    "print(dataset.X)\n",
    "print()\n",
    "dataset.remove_by_index(1)\n",
    "print(dataset.X)"
   ]
  }
 ],
 "metadata": {
  "kernelspec": {
   "display_name": "Python 3",
   "language": "python",
   "name": "python3"
  },
  "language_info": {
   "codemirror_mode": {
    "name": "ipython",
    "version": 3
   },
   "file_extension": ".py",
   "mimetype": "text/x-python",
   "name": "python",
   "nbconvert_exporter": "python",
   "pygments_lexer": "ipython3",
   "version": "3.11.3"
  }
 },
 "nbformat": 4,
 "nbformat_minor": 2
}
